{
 "cells": [
  {
   "cell_type": "code",
   "execution_count": 1,
   "id": "08473e01",
   "metadata": {},
   "outputs": [
    {
     "name": "stdout",
     "output_type": "stream",
     "text": [
      "WARNING:tensorflow:From C:\\Users\\rishi\\anaconda3\\Lib\\site-packages\\keras\\src\\losses.py:2976: The name tf.losses.sparse_softmax_cross_entropy is deprecated. Please use tf.compat.v1.losses.sparse_softmax_cross_entropy instead.\n",
      "\n"
     ]
    }
   ],
   "source": [
    "import tensorflow as tf\n",
    "from tensorflow import keras\n",
    "from tensorflow.keras import layers"
   ]
  },
  {
   "cell_type": "code",
   "execution_count": 2,
   "id": "4ded12f8",
   "metadata": {},
   "outputs": [],
   "source": [
    "from tensorflow.keras.preprocessing.image import ImageDataGenerator"
   ]
  },
  {
   "cell_type": "code",
   "execution_count": 3,
   "id": "2a5f9560",
   "metadata": {},
   "outputs": [
    {
     "name": "stdout",
     "output_type": "stream",
     "text": [
      "WARNING:tensorflow:From C:\\Users\\rishi\\anaconda3\\Lib\\site-packages\\keras\\src\\backend.py:873: The name tf.get_default_graph is deprecated. Please use tf.compat.v1.get_default_graph instead.\n",
      "\n"
     ]
    }
   ],
   "source": [
    "model = tf.keras.models.Sequential([\n",
    "  tf.keras.layers.Flatten(input_shape=(128, 128,3)),\n",
    "  tf.keras.layers.Dense(128, activation='relu'),\n",
    "  tf.keras.layers.Dense(128, activation='relu'),\n",
    "  tf.keras.layers.Dense(128, activation='relu'), \n",
    "  #tf.keras.layers.Dropout(0.1),\n",
    "  tf.keras.layers.Dense(10)\n",
    "])"
   ]
  },
  {
   "cell_type": "code",
   "execution_count": 4,
   "id": "9ddc0e16",
   "metadata": {},
   "outputs": [],
   "source": [
    "loss_fn = tf.keras.losses.SparseCategoricalCrossentropy(from_logits=True)"
   ]
  },
  {
   "cell_type": "code",
   "execution_count": 5,
   "id": "6b2fa46d",
   "metadata": {},
   "outputs": [
    {
     "name": "stdout",
     "output_type": "stream",
     "text": [
      "WARNING:tensorflow:From C:\\Users\\rishi\\anaconda3\\Lib\\site-packages\\keras\\src\\optimizers\\__init__.py:309: The name tf.train.Optimizer is deprecated. Please use tf.compat.v1.train.Optimizer instead.\n",
      "\n"
     ]
    }
   ],
   "source": [
    "model.compile(optimizer='adam',\n",
    "              loss=loss_fn,\n",
    "              metrics=['accuracy'])"
   ]
  },
  {
   "cell_type": "code",
   "execution_count": 6,
   "id": "bda91c0c",
   "metadata": {},
   "outputs": [
    {
     "name": "stdout",
     "output_type": "stream",
     "text": [
      "Found 679 images belonging to 5 classes.\n",
      "Found 679 images belonging to 5 classes.\n",
      "Epoch 1/15\n",
      "WARNING:tensorflow:From C:\\Users\\rishi\\anaconda3\\Lib\\site-packages\\keras\\src\\utils\\tf_utils.py:492: The name tf.ragged.RaggedTensorValue is deprecated. Please use tf.compat.v1.ragged.RaggedTensorValue instead.\n",
      "\n",
      "WARNING:tensorflow:From C:\\Users\\rishi\\anaconda3\\Lib\\site-packages\\keras\\src\\engine\\base_layer_utils.py:384: The name tf.executing_eagerly_outside_functions is deprecated. Please use tf.compat.v1.executing_eagerly_outside_functions instead.\n",
      "\n",
      "11/11 [==============================] - 2s 164ms/step - loss: 9.6325 - accuracy: 0.2165 - val_loss: 3.9347 - val_accuracy: 0.2018\n",
      "Epoch 2/15\n",
      "11/11 [==============================] - 2s 152ms/step - loss: 4.4279 - accuracy: 0.2165 - val_loss: 2.3189 - val_accuracy: 0.3255\n",
      "Epoch 3/15\n",
      "11/11 [==============================] - 2s 145ms/step - loss: 2.4028 - accuracy: 0.2739 - val_loss: 2.1664 - val_accuracy: 0.3284\n",
      "Epoch 4/15\n",
      "11/11 [==============================] - 2s 146ms/step - loss: 1.7813 - accuracy: 0.3358 - val_loss: 1.4713 - val_accuracy: 0.4065\n",
      "Epoch 5/15\n",
      "11/11 [==============================] - 2s 146ms/step - loss: 1.5228 - accuracy: 0.3594 - val_loss: 1.2785 - val_accuracy: 0.4860\n",
      "Epoch 6/15\n",
      "11/11 [==============================] - 2s 146ms/step - loss: 1.4033 - accuracy: 0.4389 - val_loss: 1.4894 - val_accuracy: 0.4934\n",
      "Epoch 7/15\n",
      "11/11 [==============================] - 2s 150ms/step - loss: 1.4079 - accuracy: 0.4242 - val_loss: 1.2804 - val_accuracy: 0.5420\n",
      "Epoch 8/15\n",
      "11/11 [==============================] - 2s 149ms/step - loss: 1.3067 - accuracy: 0.4654 - val_loss: 1.4747 - val_accuracy: 0.3873\n",
      "Epoch 9/15\n",
      "11/11 [==============================] - 2s 150ms/step - loss: 1.2792 - accuracy: 0.5022 - val_loss: 1.3629 - val_accuracy: 0.4345\n",
      "Epoch 10/15\n",
      "11/11 [==============================] - 2s 148ms/step - loss: 1.2752 - accuracy: 0.4993 - val_loss: 1.3022 - val_accuracy: 0.4698\n",
      "Epoch 11/15\n",
      "11/11 [==============================] - 2s 146ms/step - loss: 1.3287 - accuracy: 0.4772 - val_loss: 1.2678 - val_accuracy: 0.4757\n",
      "Epoch 12/15\n",
      "11/11 [==============================] - 2s 148ms/step - loss: 1.3146 - accuracy: 0.4713 - val_loss: 1.1579 - val_accuracy: 0.5714\n",
      "Epoch 13/15\n",
      "11/11 [==============================] - 2s 146ms/step - loss: 1.1562 - accuracy: 0.5464 - val_loss: 1.1718 - val_accuracy: 0.5376\n",
      "Epoch 14/15\n",
      "11/11 [==============================] - 2s 148ms/step - loss: 1.1509 - accuracy: 0.5420 - val_loss: 1.0452 - val_accuracy: 0.5803\n",
      "Epoch 15/15\n",
      "11/11 [==============================] - 2s 148ms/step - loss: 1.2024 - accuracy: 0.5331 - val_loss: 1.2198 - val_accuracy: 0.5714\n"
     ]
    },
    {
     "data": {
      "text/plain": [
       "<keras.src.callbacks.History at 0x1ee33ebe2d0>"
      ]
     },
     "execution_count": 6,
     "metadata": {},
     "output_type": "execute_result"
    }
   ],
   "source": [
    "train_datagen = ImageDataGenerator(\n",
    "        rescale=1./255,\n",
    "        validation_split=0.2\n",
    "        )\n",
    "test_datagen = ImageDataGenerator(rescale=1./255)\n",
    "train_generator = train_datagen.flow_from_directory(\n",
    "        \"C:\\\\Users\\\\rishi\\\\OneDrive\\\\Documents\\\\SELENIUM\\\\Dog_Data\",\n",
    "        target_size=(128, 128),\n",
    "        batch_size=64,\n",
    "        shuffle='True',\n",
    "        class_mode='sparse')\n",
    "validation_generator = test_datagen.flow_from_directory(\n",
    "        \"C:\\\\Users\\\\rishi\\\\OneDrive\\\\Documents\\\\SELENIUM\\\\Dog_Data\",\n",
    "        target_size=(128, 128),\n",
    "        shuffle='True',\n",
    "        batch_size=64,\n",
    "        class_mode='sparse')\n",
    "model.fit(\n",
    "        train_generator,\n",
    "        #steps_per_epoch=2000,\n",
    "        epochs=15,\n",
    "        validation_data=validation_generator)\n",
    "        #validation_steps=800)"
   ]
  },
  {
   "cell_type": "code",
   "execution_count": null,
   "id": "ffa2b3c4",
   "metadata": {},
   "outputs": [],
   "source": []
  }
 ],
 "metadata": {
  "kernelspec": {
   "display_name": "Python 3 (ipykernel)",
   "language": "python",
   "name": "python3"
  },
  "language_info": {
   "codemirror_mode": {
    "name": "ipython",
    "version": 3
   },
   "file_extension": ".py",
   "mimetype": "text/x-python",
   "name": "python",
   "nbconvert_exporter": "python",
   "pygments_lexer": "ipython3",
   "version": "3.11.5"
  }
 },
 "nbformat": 4,
 "nbformat_minor": 5
}
