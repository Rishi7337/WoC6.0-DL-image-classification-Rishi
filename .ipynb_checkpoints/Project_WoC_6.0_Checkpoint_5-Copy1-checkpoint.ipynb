{
 "cells": [
  {
   "cell_type": "code",
   "execution_count": 1,
   "id": "08473e01",
   "metadata": {},
   "outputs": [
    {
     "name": "stdout",
     "output_type": "stream",
     "text": [
      "WARNING:tensorflow:From C:\\Users\\rishi\\anaconda3\\Lib\\site-packages\\keras\\src\\losses.py:2976: The name tf.losses.sparse_softmax_cross_entropy is deprecated. Please use tf.compat.v1.losses.sparse_softmax_cross_entropy instead.\n",
      "\n"
     ]
    }
   ],
   "source": [
    "import tensorflow as tf\n",
    "from tensorflow import keras\n",
    "from tensorflow.keras import layers\n",
    "from tensorflow.keras import optimizers"
   ]
  },
  {
   "cell_type": "code",
   "execution_count": 2,
   "id": "4ded12f8",
   "metadata": {},
   "outputs": [],
   "source": [
    "from tensorflow.keras.preprocessing.image import ImageDataGenerator"
   ]
  },
  {
   "cell_type": "code",
   "execution_count": 15,
   "id": "2a5f9560",
   "metadata": {},
   "outputs": [],
   "source": [
    "model = tf.keras.models.Sequential([\n",
    "    \n",
    "    tf.keras.layers.Conv2D(64,(3,3),activation='relu',padding='same',input_shape=(128, 128,3)),\n",
    "    tf.keras.layers.Conv2D(64, (3, 3), activation='relu'),\n",
    "    tf.keras.layers.MaxPooling2D(pool_size=(2,2)),\n",
    "    \n",
    "    #Conv2D(32, (3, 3), padding='same', activation='relu', input_shape=input_shape) \n",
    "    #model.add(Conv2D(32, (3, 3), activation='relu'))\n",
    "    #model.add(MaxPooling2D(pool_size=(2, 2)))\n",
    "    tf.keras.layers.Dropout(0.1),\n",
    "    \n",
    "    tf.keras.layers.Conv2D(64,(3,3),activation='relu',padding='same'),\n",
    "    tf.keras.layers.Conv2D(32, (3, 3), activation='relu'),\n",
    "    tf.keras.layers.MaxPooling2D(pool_size=(2, 2)),\n",
    "    \n",
    "    tf.keras.layers.Flatten(),\n",
    "    tf.keras.layers.Dense(128, activation='relu'),\n",
    "    tf.keras.layers.Dense(128, activation='relu'),\n",
    "    tf.keras.layers.Dense(128, activation='relu'), \n",
    "    tf.keras.layers.Dropout(0.1),\n",
    "    tf.keras.layers.Dense(10)\n",
    "])"
   ]
  },
  {
   "cell_type": "code",
   "execution_count": 16,
   "id": "9ddc0e16",
   "metadata": {},
   "outputs": [],
   "source": [
    "loss_fn = tf.keras.losses.SparseCategoricalCrossentropy(from_logits=True)"
   ]
  },
  {
   "cell_type": "code",
   "execution_count": 17,
   "id": "6b2fa46d",
   "metadata": {},
   "outputs": [],
   "source": [
    "model.compile(optimizer = tf.keras.optimizers.RMSprop(learning_rate=0.01),\n",
    "              loss=loss_fn,\n",
    "              metrics=['accuracy'])"
   ]
  },
  {
   "cell_type": "code",
   "execution_count": 18,
   "id": "bda91c0c",
   "metadata": {},
   "outputs": [
    {
     "name": "stdout",
     "output_type": "stream",
     "text": [
      "Found 636 images belonging to 5 classes.\n",
      "Found 636 images belonging to 5 classes.\n",
      "Found 43 images belonging to 5 classes.\n",
      "Epoch 1/12\n",
      "10/10 [==============================] - 19s 2s/step - loss: 213.1911 - accuracy: 0.1840 - val_loss: 4.6042 - val_accuracy: 0.2060\n",
      "Epoch 2/12\n",
      "10/10 [==============================] - 20s 2s/step - loss: 1.9395 - accuracy: 0.2138 - val_loss: 1.6004 - val_accuracy: 0.2531\n",
      "Epoch 3/12\n",
      "10/10 [==============================] - 18s 2s/step - loss: 1.6204 - accuracy: 0.2437 - val_loss: 1.5977 - val_accuracy: 0.2531\n",
      "Epoch 4/12\n",
      "10/10 [==============================] - 20s 2s/step - loss: 1.6141 - accuracy: 0.2248 - val_loss: 1.6052 - val_accuracy: 0.2091\n",
      "Epoch 5/12\n",
      "10/10 [==============================] - 20s 2s/step - loss: 1.6060 - accuracy: 0.2343 - val_loss: 1.5836 - val_accuracy: 0.2343\n",
      "Epoch 6/12\n",
      "10/10 [==============================] - 22s 2s/step - loss: 1.6144 - accuracy: 0.2186 - val_loss: 1.5968 - val_accuracy: 0.2531\n",
      "Epoch 7/12\n",
      "10/10 [==============================] - 19s 2s/step - loss: 1.6130 - accuracy: 0.2327 - val_loss: 1.5966 - val_accuracy: 0.2531\n",
      "Epoch 8/12\n",
      "10/10 [==============================] - 21s 2s/step - loss: 1.5988 - accuracy: 0.2280 - val_loss: 1.6009 - val_accuracy: 0.2531\n",
      "Epoch 9/12\n",
      "10/10 [==============================] - 20s 2s/step - loss: 1.6044 - accuracy: 0.2406 - val_loss: 1.5966 - val_accuracy: 0.2531\n",
      "Epoch 10/12\n",
      "10/10 [==============================] - 21s 2s/step - loss: 1.6079 - accuracy: 0.2453 - val_loss: 1.5970 - val_accuracy: 0.2531\n",
      "Epoch 11/12\n",
      "10/10 [==============================] - 19s 2s/step - loss: 1.6006 - accuracy: 0.2516 - val_loss: 1.5993 - val_accuracy: 0.2531\n",
      "Epoch 12/12\n",
      "10/10 [==============================] - 20s 2s/step - loss: 1.6088 - accuracy: 0.2421 - val_loss: 1.5954 - val_accuracy: 0.2531\n"
     ]
    },
    {
     "data": {
      "text/plain": [
       "<keras.src.callbacks.History at 0x1308f018d10>"
      ]
     },
     "execution_count": 18,
     "metadata": {},
     "output_type": "execute_result"
    }
   ],
   "source": [
    "train_datagen = ImageDataGenerator(\n",
    "        rescale=1./255,\n",
    "        validation_split=0.2\n",
    "        )\n",
    "test_datagen = ImageDataGenerator(rescale=1./255)\n",
    "train_generator = train_datagen.flow_from_directory(\n",
    "        \"C:\\\\Users\\\\rishi\\\\OneDrive\\\\Documents\\\\SELENIUM\\\\Dog_Data\",\n",
    "        target_size=(128, 128),\n",
    "        batch_size=64,\n",
    "        shuffle='True',\n",
    "        class_mode='sparse')\n",
    "validation_generator = test_datagen.flow_from_directory(\n",
    "        \"C:\\\\Users\\\\rishi\\\\OneDrive\\\\Documents\\\\SELENIUM\\\\Dog_Data\",\n",
    "        target_size=(128, 128),\n",
    "        shuffle='True',\n",
    "        batch_size=64,\n",
    "        class_mode='sparse')\n",
    "test_generator = test_datagen.flow_from_directory(\n",
    "    \"C:\\\\Users\\\\rishi\\\\OneDrive\\\\Documents\\\\SELENIUM\\\\test_res\",\n",
    "    target_size=(128, 128),\n",
    "    batch_size=64,\n",
    "    class_mode='sparse'\n",
    ")\n",
    "model.fit(\n",
    "        train_generator,\n",
    "        #steps_per_epoch=2000,\n",
    "        epochs=12,\n",
    "        validation_data=validation_generator)\n",
    "        #validation_steps=800)"
   ]
  },
  {
   "cell_type": "code",
   "execution_count": 19,
   "id": "ffa2b3c4",
   "metadata": {},
   "outputs": [
    {
     "name": "stdout",
     "output_type": "stream",
     "text": [
      "1/1 [==============================] - 0s 230ms/step - loss: 1.5907 - accuracy: 0.2326\n"
     ]
    }
   ],
   "source": [
    "evaluation = model.evaluate(test_generator)"
   ]
  },
  {
   "cell_type": "code",
   "execution_count": 20,
   "id": "84a5ae98",
   "metadata": {},
   "outputs": [
    {
     "name": "stdout",
     "output_type": "stream",
     "text": [
      "Test Loss: 1.5906519889831543\n",
      "Test Accuracy: 0.23255814611911774\n"
     ]
    }
   ],
   "source": [
    "print(\"Test Loss:\", evaluation[0])\n",
    "print(\"Test Accuracy:\", evaluation[1])"
   ]
  },
  {
   "cell_type": "code",
   "execution_count": null,
   "id": "5414b852",
   "metadata": {},
   "outputs": [],
   "source": []
  }
 ],
 "metadata": {
  "kernelspec": {
   "display_name": "Python 3 (ipykernel)",
   "language": "python",
   "name": "python3"
  },
  "language_info": {
   "codemirror_mode": {
    "name": "ipython",
    "version": 3
   },
   "file_extension": ".py",
   "mimetype": "text/x-python",
   "name": "python",
   "nbconvert_exporter": "python",
   "pygments_lexer": "ipython3",
   "version": "3.11.5"
  }
 },
 "nbformat": 4,
 "nbformat_minor": 5
}
