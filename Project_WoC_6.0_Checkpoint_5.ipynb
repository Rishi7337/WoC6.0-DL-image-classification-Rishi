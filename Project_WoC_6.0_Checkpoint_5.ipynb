{
 "cells": [
  {
   "cell_type": "code",
   "execution_count": 1,
   "id": "08473e01",
   "metadata": {},
   "outputs": [
    {
     "name": "stdout",
     "output_type": "stream",
     "text": [
      "WARNING:tensorflow:From C:\\Users\\rishi\\anaconda3\\Lib\\site-packages\\keras\\src\\losses.py:2976: The name tf.losses.sparse_softmax_cross_entropy is deprecated. Please use tf.compat.v1.losses.sparse_softmax_cross_entropy instead.\n",
      "\n"
     ]
    }
   ],
   "source": [
    "import tensorflow as tf\n",
    "from tensorflow import keras\n",
    "from tensorflow.keras import layers"
   ]
  },
  {
   "cell_type": "code",
   "execution_count": 2,
   "id": "4ded12f8",
   "metadata": {},
   "outputs": [],
   "source": [
    "from tensorflow.keras.preprocessing.image import ImageDataGenerator"
   ]
  },
  {
   "cell_type": "code",
   "execution_count": 4,
   "id": "2a5f9560",
   "metadata": {},
   "outputs": [
    {
     "name": "stdout",
     "output_type": "stream",
     "text": [
      "WARNING:tensorflow:From C:\\Users\\rishi\\anaconda3\\Lib\\site-packages\\keras\\src\\backend.py:873: The name tf.get_default_graph is deprecated. Please use tf.compat.v1.get_default_graph instead.\n",
      "\n",
      "WARNING:tensorflow:From C:\\Users\\rishi\\anaconda3\\Lib\\site-packages\\keras\\src\\layers\\pooling\\max_pooling2d.py:161: The name tf.nn.max_pool is deprecated. Please use tf.nn.max_pool2d instead.\n",
      "\n"
     ]
    }
   ],
   "source": [
    "model = tf.keras.models.Sequential([\n",
    "    \n",
    "    tf.keras.layers.Conv2D(64,(3,3),activation='relu',padding='same',input_shape=(128, 128,3)),\n",
    "    tf.keras.layers.Conv2D(32, (3, 3), activation='relu'),\n",
    "    tf.keras.layers.MaxPooling2D(pool_size=(2,2)),\n",
    "    \n",
    "    #Conv2D(32, (3, 3), padding='same', activation='relu', input_shape=input_shape) \n",
    "    #model.add(Conv2D(32, (3, 3), activation='relu'))\n",
    "    #model.add(MaxPooling2D(pool_size=(2, 2)))\n",
    "    tf.keras.layers.Dropout(0.25),\n",
    "    \n",
    "    tf.keras.layers.Conv2D(32,(3,3),activation='relu',padding='same'),\n",
    "    tf.keras.layers.Conv2D(32, (3, 3), activation='relu'),\n",
    "    tf.keras.layers.MaxPooling2D(pool_size=(2, 2)),\n",
    "    \n",
    "    tf.keras.layers.Flatten(),\n",
    "    tf.keras.layers.Dense(128, activation='relu'),\n",
    "    tf.keras.layers.Dense(128, activation='relu'),\n",
    "    tf.keras.layers.Dense(128, activation='relu'), \n",
    "    tf.keras.layers.Dropout(0.1),\n",
    "    tf.keras.layers.Dense(10)\n",
    "])"
   ]
  },
  {
   "cell_type": "code",
   "execution_count": 5,
   "id": "9ddc0e16",
   "metadata": {},
   "outputs": [],
   "source": [
    "loss_fn = tf.keras.losses.SparseCategoricalCrossentropy(from_logits=True)"
   ]
  },
  {
   "cell_type": "code",
   "execution_count": 6,
   "id": "6b2fa46d",
   "metadata": {},
   "outputs": [
    {
     "name": "stdout",
     "output_type": "stream",
     "text": [
      "WARNING:tensorflow:From C:\\Users\\rishi\\anaconda3\\Lib\\site-packages\\keras\\src\\optimizers\\__init__.py:309: The name tf.train.Optimizer is deprecated. Please use tf.compat.v1.train.Optimizer instead.\n",
      "\n"
     ]
    }
   ],
   "source": [
    "model.compile(optimizer='adam',\n",
    "              loss=loss_fn,\n",
    "              metrics=['accuracy'])"
   ]
  },
  {
   "cell_type": "code",
   "execution_count": 7,
   "id": "bda91c0c",
   "metadata": {},
   "outputs": [
    {
     "name": "stdout",
     "output_type": "stream",
     "text": [
      "Found 679 images belonging to 5 classes.\n",
      "Found 679 images belonging to 5 classes.\n",
      "Epoch 1/15\n",
      "WARNING:tensorflow:From C:\\Users\\rishi\\anaconda3\\Lib\\site-packages\\keras\\src\\utils\\tf_utils.py:492: The name tf.ragged.RaggedTensorValue is deprecated. Please use tf.compat.v1.ragged.RaggedTensorValue instead.\n",
      "\n",
      "WARNING:tensorflow:From C:\\Users\\rishi\\anaconda3\\Lib\\site-packages\\keras\\src\\engine\\base_layer_utils.py:384: The name tf.executing_eagerly_outside_functions is deprecated. Please use tf.compat.v1.executing_eagerly_outside_functions instead.\n",
      "\n",
      "11/11 [==============================] - 12s 989ms/step - loss: 1.9662 - accuracy: 0.1708 - val_loss: 1.8887 - val_accuracy: 0.2077\n",
      "Epoch 2/15\n",
      "11/11 [==============================] - 11s 1s/step - loss: 1.7061 - accuracy: 0.2342 - val_loss: 1.6719 - val_accuracy: 0.2622\n",
      "Epoch 3/15\n",
      "11/11 [==============================] - 12s 1s/step - loss: 1.6742 - accuracy: 0.2297 - val_loss: 1.5776 - val_accuracy: 0.2577\n",
      "Epoch 4/15\n",
      "11/11 [==============================] - 13s 1s/step - loss: 1.5838 - accuracy: 0.3019 - val_loss: 1.4852 - val_accuracy: 0.3785\n",
      "Epoch 5/15\n",
      "11/11 [==============================] - 12s 1s/step - loss: 1.4265 - accuracy: 0.3962 - val_loss: 1.2880 - val_accuracy: 0.4875\n",
      "Epoch 6/15\n",
      "11/11 [==============================] - 15s 1s/step - loss: 1.3132 - accuracy: 0.4728 - val_loss: 1.1860 - val_accuracy: 0.5655\n",
      "Epoch 7/15\n",
      "11/11 [==============================] - 13s 1s/step - loss: 1.1316 - accuracy: 0.5214 - val_loss: 0.9015 - val_accuracy: 0.6627\n",
      "Epoch 8/15\n",
      "11/11 [==============================] - 15s 1s/step - loss: 0.9550 - accuracy: 0.6568 - val_loss: 0.7591 - val_accuracy: 0.7437\n",
      "Epoch 9/15\n",
      "11/11 [==============================] - 15s 1s/step - loss: 0.7752 - accuracy: 0.7025 - val_loss: 0.5841 - val_accuracy: 0.8218\n",
      "Epoch 10/15\n",
      "11/11 [==============================] - 14s 1s/step - loss: 0.5780 - accuracy: 0.7938 - val_loss: 0.4008 - val_accuracy: 0.8513\n",
      "Epoch 11/15\n",
      "11/11 [==============================] - 11s 1s/step - loss: 0.4328 - accuracy: 0.8409 - val_loss: 0.2883 - val_accuracy: 0.9087\n",
      "Epoch 12/15\n",
      "11/11 [==============================] - 12s 1s/step - loss: 0.2337 - accuracy: 0.9219 - val_loss: 0.1017 - val_accuracy: 0.9676\n",
      "Epoch 13/15\n",
      "11/11 [==============================] - 12s 1s/step - loss: 0.1463 - accuracy: 0.9514 - val_loss: 0.0651 - val_accuracy: 0.9809\n",
      "Epoch 14/15\n",
      "11/11 [==============================] - 11s 1s/step - loss: 0.0804 - accuracy: 0.9735 - val_loss: 0.0394 - val_accuracy: 0.9882\n",
      "Epoch 15/15\n",
      "11/11 [==============================] - 11s 1s/step - loss: 0.0584 - accuracy: 0.9823 - val_loss: 0.0471 - val_accuracy: 0.9853\n"
     ]
    },
    {
     "data": {
      "text/plain": [
       "<keras.src.callbacks.History at 0x15579ec5190>"
      ]
     },
     "execution_count": 7,
     "metadata": {},
     "output_type": "execute_result"
    }
   ],
   "source": [
    "train_datagen = ImageDataGenerator(\n",
    "        rescale=1./255,\n",
    "        validation_split=0.2\n",
    "        )\n",
    "test_datagen = ImageDataGenerator(rescale=1./255)\n",
    "train_generator = train_datagen.flow_from_directory(\n",
    "        \"C:\\\\Users\\\\rishi\\\\OneDrive\\\\Documents\\\\SELENIUM\\\\Dog_Data\",\n",
    "        target_size=(128, 128),\n",
    "        batch_size=64,\n",
    "        shuffle='True',\n",
    "        class_mode='sparse')\n",
    "validation_generator = test_datagen.flow_from_directory(\n",
    "        \"C:\\\\Users\\\\rishi\\\\OneDrive\\\\Documents\\\\SELENIUM\\\\Dog_Data\",\n",
    "        target_size=(128, 128),\n",
    "        shuffle='True',\n",
    "        batch_size=64,\n",
    "        class_mode='sparse')\n",
    "model.fit(\n",
    "        train_generator,\n",
    "        #steps_per_epoch=2000,\n",
    "        epochs=10,\n",
    "        validation_data=validation_generator)\n",
    "        #validation_steps=800)"
   ]
  },
  {
   "cell_type": "code",
   "execution_count": null,
   "id": "ffa2b3c4",
   "metadata": {},
   "outputs": [],
   "source": []
  }
 ],
 "metadata": {
  "kernelspec": {
   "display_name": "Python 3 (ipykernel)",
   "language": "python",
   "name": "python3"
  },
  "language_info": {
   "codemirror_mode": {
    "name": "ipython",
    "version": 3
   },
   "file_extension": ".py",
   "mimetype": "text/x-python",
   "name": "python",
   "nbconvert_exporter": "python",
   "pygments_lexer": "ipython3",
   "version": "3.11.5"
  }
 },
 "nbformat": 4,
 "nbformat_minor": 5
}
